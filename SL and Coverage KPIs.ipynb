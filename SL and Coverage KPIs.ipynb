{
 "cells": [
  {
   "cell_type": "code",
   "execution_count": 136,
   "metadata": {},
   "outputs": [],
   "source": [
    "import numpy as np\n",
    "import pandas as pd\n",
    "import sidetable as stb\n",
    "import glob, os\n",
    "from datetime import datetime, timedelta, date\n",
    "import matplotlib.pyplot as plt\n",
    "import matplotlib.style as style\n",
    "import matplotlib.dates as mdates\n",
    "import dataframe_image as dfi\n",
    "import win32com.client as win32"
   ]
  },
  {
   "cell_type": "markdown",
   "metadata": {},
   "source": [
    "Sample of initial inventory report."
   ]
  },
  {
   "cell_type": "code",
   "execution_count": 138,
   "metadata": {},
   "outputs": [],
   "source": [
    "sample = pd.read_fwf(r'C:\\Retailer\\Filename.txt',header=None)"
   ]
  },
  {
   "cell_type": "code",
   "execution_count": 139,
   "metadata": {},
   "outputs": [
    {
     "name": "stdout",
     "output_type": "stream",
     "text": [
      "0  01468000000000146000000000100000203011202000000038151000000010\n",
      "1  04468000000000146000000000110000203011202000000000001000000011\n",
      "2  03468000000000146000000000120000203011202000000003601000000012\n",
      "3  01468000000000146000000000130000203011202000000097401000000013\n",
      "4  04468000000000146000000000140000203011202000000019401000000014\n"
     ]
    }
   ],
   "source": [
    "print(sample.head())"
   ]
  },
  {
   "cell_type": "markdown",
   "metadata": {},
   "source": [
    "Path to the folder with all inventory reports in txt format. They will be collected, stacked and used for further analytics."
   ]
  },
  {
   "cell_type": "code",
   "execution_count": 100,
   "metadata": {},
   "outputs": [],
   "source": [
    "path = r'C:\\Retailer'\n",
    "all_files = glob.glob(path + \"/*.txt\")"
   ]
  },
  {
   "cell_type": "markdown",
   "metadata": {},
   "source": [
    "Variable that shows how txt file should be splitted based on value's position and length."
   ]
  },
  {
   "cell_type": "code",
   "execution_count": 101,
   "metadata": {},
   "outputs": [],
   "source": [
    "col_specification = [(0,2),(2,15),(15,28),(28,30),\n",
    "                     (30,34),(34,36),(36,38),(38,42),(42,52),(52,62)]"
   ]
  },
  {
   "cell_type": "raw",
   "metadata": {},
   "source": [
    "Files are processed by script and column names are added."
   ]
  },
  {
   "cell_type": "code",
   "execution_count": 102,
   "metadata": {},
   "outputs": [],
   "source": [
    "li = []\n",
    "\n",
    "for filename in all_files:\n",
    "    df = pd.read_fwf(filename, header=None,colspecs=col_specification,float_format='%.f')\n",
    "    li.append(df)\n",
    "\n",
    "df = pd.concat(li, axis=0, ignore_index=True)\n",
    "\n",
    "df = df.dropna() # Script drops N/A values. They may appear if file has blank lines.\n",
    "\n",
    "df.columns = ['Movement_Code','GLN_Code','EAN_Code','Site_Item_Type',\n",
    "                  'Case_Count','Movement_Day','Movement_Month','Movement_Year',\n",
    "                    'Quantity','Base_Unit_Code']"
   ]
  },
  {
   "cell_type": "markdown",
   "metadata": {},
   "source": [
    "Sample of initial date."
   ]
  },
  {
   "cell_type": "markdown",
   "metadata": {},
   "source": [
    "Necessary formats are applied to certain columns."
   ]
  },
  {
   "cell_type": "code",
   "execution_count": 103,
   "metadata": {},
   "outputs": [],
   "source": [
    "df[['GLN_Code','EAN_Code','Base_Unit_Code','Case_Count']] = \\\n",
    "df[['GLN_Code','EAN_Code','Base_Unit_Code','Case_Count']].astype(str).replace('\\.0', '', regex=True)\n",
    "\n",
    "df['Quantity'] = df['Quantity'].astype(int)"
   ]
  },
  {
   "cell_type": "markdown",
   "metadata": {},
   "source": [
    "Date in initial format DDMMYYY is splitted into day, month and year and then joined with delimeters between. \n",
    "New date format is DD-MM-YYYY."
   ]
  },
  {
   "cell_type": "code",
   "execution_count": 104,
   "metadata": {},
   "outputs": [],
   "source": [
    "df['Movement_Day'] = df['Movement_Day'].astype(str).replace('\\.0', '', regex=True)\n",
    "df['Movement_Day'] = df['Movement_Day'].str.zfill(2)\n",
    "df['Movement_Month'] = df['Movement_Month'].astype(str).replace('\\.0', '', regex=True)\n",
    "df['Movement_Month'] = df['Movement_Month'].str.zfill(2)\n",
    "df['Movement_Year'] = df['Movement_Year'].apply(str).replace('\\.0', '', regex=True)\n",
    "df['Movement_Date'] = df[\"Movement_Day\"] + \"-\" + df[\"Movement_Month\"] + \"-\" + df[\"Movement_Year\"]\n",
    "df['Movement_Date'] = df['Movement_Date'].apply(str).replace('\\.0', '', regex=True)\n",
    "df['Movement_Date'] = pd.to_datetime(df.Movement_Date,format = '%d-%m-%Y', dayfirst=True)\n",
    "df = df.drop(['Movement_Day','Movement_Month','Movement_Year'], axis=1) "
   ]
  },
  {
   "cell_type": "markdown",
   "metadata": {},
   "source": [
    "If there are no OOS quantities in processed files,then only Stock, Transit and Shipped are renamed."
   ]
  },
  {
   "cell_type": "code",
   "execution_count": 105,
   "metadata": {},
   "outputs": [],
   "source": [
    "if 5 in df['Movement_Code']:\n",
    "    df['Movement_Code'] = df['Movement_Code'].replace([1,4,3,5],\n",
    "                                                      ['Stock','Transit','Shipped','OOS'])\n",
    "else: \n",
    "    df['Movement_Code'] = df['Movement_Code'].replace([1,4,3],\n",
    "                                                      ['Stock','Transit','Shipped'])"
   ]
  },
  {
   "cell_type": "markdown",
   "metadata": {},
   "source": [
    "Site Item Types values are replaced by Standard and Promo."
   ]
  },
  {
   "cell_type": "code",
   "execution_count": 106,
   "metadata": {},
   "outputs": [],
   "source": [
    "df['Site_Item_Type'] = df['Site_Item_Type'].replace([0,1],\n",
    "                                                    ['Standard','Promo'])"
   ]
  },
  {
   "cell_type": "markdown",
   "metadata": {},
   "source": [
    "Columns' order is changed for dataframe."
   ]
  },
  {
   "cell_type": "code",
   "execution_count": 107,
   "metadata": {},
   "outputs": [],
   "source": [
    "df = df[['Movement_Code','GLN_Code','EAN_Code','Site_Item_Type',\n",
    "                  'Case_Count','Movement_Date','Quantity','Base_Unit_Code']]"
   ]
  },
  {
   "cell_type": "markdown",
   "metadata": {},
   "source": [
    "Function for top 10 shipped products within last 30 days."
   ]
  },
  {
   "cell_type": "code",
   "execution_count": 108,
   "metadata": {},
   "outputs": [],
   "source": [
    "def TopShipped(dataframe):\n",
    "    dfShipped = dataframe[(dataframe['Movement_Code']=='Shipped') &\n",
    "               (dataframe['Movement_Date']>(dataframe['Movement_Date'].max() - pd.Timedelta(days=30)))]\n",
    "    dfShipped = dfShipped.groupby('EAN_Code',as_index=False)['Quantity'].sum()\n",
    "    dfShipped = dfShipped.sort_values(by=['Quantity'],ascending=False)\n",
    "    dfShipped['%'] = (dfShipped['Quantity'] / dfShipped['Quantity'].sum()).map(\"{:.2%}\".format)\n",
    "    dfShipped['Quantity'] = dfShipped['Quantity'].apply(lambda x : \"{:,}\".format(x))\n",
    "    dfShipped.reset_index(drop=True,inplace=True)\n",
    "    dfShipped.style.hide_index()\n",
    "    print(dfShipped.head(10))"
   ]
  },
  {
   "cell_type": "markdown",
   "metadata": {},
   "source": [
    "Products with no transit since specific date. This list of SKUs was needed to exclude products that had been overstocked before project's launch date."
   ]
  },
  {
   "cell_type": "code",
   "execution_count": 109,
   "metadata": {
    "scrolled": true
   },
   "outputs": [],
   "source": [
    "def NoTransit(dataframe,cutoff_date):\n",
    "    dfNoTransit = dataframe[(dataframe['Movement_Code']=='Transit') & (dataframe['Movement_Date']>=cutoff_date)]\n",
    "    dfNoTransit = dfNoTransit.groupby('EAN_Code',as_index=False)['Quantity'].sum()\n",
    "    dfNoTransit = dfNoTransit[dfNoTransit['Quantity'] == 0]\n",
    "    dfNoTransit_list = dfNoTransit['EAN_Code'].to_list()\n",
    "    print(dfNoTransit_list)                "
   ]
  },
  {
   "cell_type": "markdown",
   "metadata": {},
   "source": [
    "Initial dataframe is transposed to Pivot table."
   ]
  },
  {
   "cell_type": "code",
   "execution_count": 110,
   "metadata": {},
   "outputs": [],
   "source": [
    "dfPivot = pd.pivot_table(df,aggfunc='sum',values='Quantity',\n",
    "                         index=['Movement_Date','EAN_Code','Base_Unit_Code'],\n",
    "                         columns='Movement_Code').reset_index()"
   ]
  },
  {
   "cell_type": "markdown",
   "metadata": {},
   "source": [
    "As data may be inconsistent, I decided to replace N/A values with 0. Mainly it concerns lines with no OOS values."
   ]
  },
  {
   "cell_type": "code",
   "execution_count": 111,
   "metadata": {},
   "outputs": [],
   "source": [
    "dfPivot = dfPivot.fillna(0)"
   ]
  },
  {
   "cell_type": "markdown",
   "metadata": {},
   "source": [
    "Columns' order is changed for pivot dataframe."
   ]
  },
  {
   "cell_type": "code",
   "execution_count": 112,
   "metadata": {},
   "outputs": [],
   "source": [
    "Movement_Codes_Order = ['Movement_Week','Movement_Date','EAN_Code','Base_Unit_Code',\n",
    "                        'Stock','Transit','Shipped','OOS','Demand']\n",
    "\n",
    "dfPivot = dfPivot.reindex(Movement_Codes_Order,axis=1)"
   ]
  },
  {
   "cell_type": "markdown",
   "metadata": {},
   "source": [
    "Column that includes the calendar week number of movement."
   ]
  },
  {
   "cell_type": "code",
   "execution_count": 113,
   "metadata": {},
   "outputs": [],
   "source": [
    "dfPivot['Movement_Week'] = 'cw'+dfPivot['Movement_Date'].dt.strftime('%V')"
   ]
  },
  {
   "cell_type": "markdown",
   "metadata": {},
   "source": [
    "Condition for Demand column's calculation."
   ]
  },
  {
   "cell_type": "code",
   "execution_count": 114,
   "metadata": {},
   "outputs": [],
   "source": [
    "if 'OOS' in df['Movement_Code'].unique():\n",
    "    dfPivot['OOS'] = dfPivot['OOS'].fillna(0)\n",
    "    dfPivot['Demand'] = dfPivot['Shipped'] + dfPivot['OOS']\n",
    "else:\n",
    "    dfPivot['OOS'] = dfPivot['OOS'].fillna(0)\n",
    "    dfPivot['Demand'] = dfPivot['Shipped']"
   ]
  },
  {
   "cell_type": "markdown",
   "metadata": {},
   "source": [
    "Renamed the axis column that was added to pivot table."
   ]
  },
  {
   "cell_type": "code",
   "execution_count": 115,
   "metadata": {},
   "outputs": [],
   "source": [
    "dfPivot = dfPivot.rename_axis(\"Line_ID\",axis=1)"
   ]
  },
  {
   "cell_type": "markdown",
   "metadata": {},
   "source": [
    "All columns with quantities get Integer format."
   ]
  },
  {
   "cell_type": "code",
   "execution_count": 116,
   "metadata": {},
   "outputs": [],
   "source": [
    "dfPivot.iloc[:, 4:] = dfPivot.iloc[:, 4:].astype(int)"
   ]
  },
  {
   "cell_type": "markdown",
   "metadata": {},
   "source": [
    "Rows are sorted based on movement date."
   ]
  },
  {
   "cell_type": "code",
   "execution_count": 117,
   "metadata": {},
   "outputs": [],
   "source": [
    "dfPivot = dfPivot.sort_values(by=['Movement_Date'],ascending=False,inplace=False)"
   ]
  },
  {
   "cell_type": "markdown",
   "metadata": {},
   "source": [
    "Index column works as Line_ID (OID)"
   ]
  },
  {
   "cell_type": "code",
   "execution_count": 118,
   "metadata": {},
   "outputs": [],
   "source": [
    "dfPivot.reset_index(drop=True,inplace=True)\n",
    "dfPivot.sort_index(ascending=False,inplace=True)"
   ]
  },
  {
   "cell_type": "markdown",
   "metadata": {},
   "source": [
    "Dataframe with Service Level calculated on a weekly basis."
   ]
  },
  {
   "cell_type": "code",
   "execution_count": 119,
   "metadata": {},
   "outputs": [
    {
     "name": "stdout",
     "output_type": "stream",
     "text": [
      "Line_ID Movement_Week  Shipped    OOS  Demand  Service_Level_%\n",
      "6                cw39   300584  27863  328447            91.52\n",
      "7                cw40   175121   7032  182153            96.14\n",
      "8                cw41   212843   1737  214580            99.19\n",
      "9                cw42   213921   4730  218651            97.84\n",
      "10               cw43   220270   2007  222277            99.10\n"
     ]
    }
   ],
   "source": [
    "dfSLW = dfPivot.groupby('Movement_Week',as_index=False)[['Shipped','OOS','Demand']].sum()\n",
    "dfSLW = dfSLW[dfSLW['Movement_Week'] >= 'cw39']\n",
    "dfSLW['Service_Level_%'] = (dfSLW['Shipped'] / dfSLW['Demand'])\n",
    "dfSLW['Service_Level_%'] = dfSLW['Service_Level_%'].astype(float).map(\"{:.2%}\".format)\n",
    "dfSLW['Service_Level_%'] = dfSLW['Service_Level_%'].str.rstrip('%').astype('float')\n",
    "dfSLW.sort_values(by=['Movement_Week'],ascending=False,inplace=True)\n",
    "dfSLW.sort_index(ascending=True,inplace=True)\n",
    "print(dfSLW.head(5))"
   ]
  },
  {
   "cell_type": "markdown",
   "metadata": {},
   "source": [
    "Dataframe with Service Level calculated on a daily basis."
   ]
  },
  {
   "cell_type": "code",
   "execution_count": 120,
   "metadata": {},
   "outputs": [],
   "source": [
    "dfSLD = dfPivot.groupby('Movement_Date',as_index=False)[['Shipped','OOS','Demand']].sum()\n",
    "dfSLD['Service_Level'] = (dfSLD['Shipped'] / dfSLD['Demand'])\n",
    "dfSLD['Service_Level'] = dfSLD['Service_Level'].astype(float).map(\"{:.2%}\".format)\n",
    "dfSLD.sort_values(by=['Movement_Date'],ascending=False,inplace=False)\n",
    "dfSLD.sort_index(ascending=False,inplace=True)"
   ]
  },
  {
   "cell_type": "markdown",
   "metadata": {},
   "source": [
    "Daily average sales. Meant for KPI report on a daily basis."
   ]
  },
  {
   "cell_type": "code",
   "execution_count": 143,
   "metadata": {
    "scrolled": true
   },
   "outputs": [
    {
     "name": "stdout",
     "output_type": "stream",
     "text": [
      "Daily average sales:  50440.0\n"
     ]
    }
   ],
   "source": [
    "daily_moving_averages = dfSLD['Demand'].rolling(7,center=False).mean().shift(-6).map('{:.0f}'.format)\n",
    "seven_days_moving_average = daily_moving_averages.iloc[0]\n",
    "seven_days_moving_average = float(seven_days_moving_average)\n",
    "print('Daily average sales: ',seven_days_moving_average)"
   ]
  },
  {
   "cell_type": "markdown",
   "metadata": {},
   "source": [
    "1-week average sales. Meant for KPI report on a weekly basis. The correct value for the latest week can be calculated on Monday."
   ]
  },
  {
   "cell_type": "code",
   "execution_count": 144,
   "metadata": {
    "scrolled": true
   },
   "outputs": [
    {
     "name": "stdout",
     "output_type": "stream",
     "text": [
      "Weekly average sales:  328447.0\n"
     ]
    }
   ],
   "source": [
    "weekly_moving_averages = dfSLW['Demand'].rolling(1,center=False).mean().map('{:.0f}'.format)\n",
    "one_week_moving_average = weekly_moving_averages.iloc[0]\n",
    "one_week_moving_average = float(one_week_moving_average)\n",
    "print('Weekly average sales: ',one_week_moving_average)"
   ]
  },
  {
   "cell_type": "markdown",
   "metadata": {},
   "source": [
    "Dataframe with Stock Coverage calculated on a weekly basis."
   ]
  },
  {
   "cell_type": "code",
   "execution_count": 123,
   "metadata": {},
   "outputs": [
    {
     "name": "stdout",
     "output_type": "stream",
     "text": [
      "Line_ID Movement_Week    Stock  Total_Coverage\n",
      "6                cw39  2872161             8.7\n",
      "7                cw40  2264350             6.9\n",
      "8                cw41  2344751             7.1\n",
      "9                cw42  1971081             6.0\n",
      "10               cw43  2429635             7.4\n"
     ]
    }
   ],
   "source": [
    "dfTCW = dfPivot.groupby('Movement_Week',as_index=False)[['Stock']].sum()\n",
    "dfTCW = dfTCW[dfTCW['Movement_Week'] >= 'cw39']\n",
    "dfTCW['Total_Coverage'] = dfTCW['Stock'].div(one_week_moving_average).map('{:.1f}'.format)\n",
    "dfTCW['Total_Coverage'] = dfTCW['Total_Coverage'].astype(float)\n",
    "dfTCW.sort_values(by=['Movement_Week'],ascending=True,inplace=False)\n",
    "dfTCW.sort_index(ascending=True,inplace=True)\n",
    "print(dfTCW.head(5))"
   ]
  },
  {
   "cell_type": "markdown",
   "metadata": {},
   "source": [
    "Dataframe with Stock Coverage calculated on a daily basis."
   ]
  },
  {
   "cell_type": "code",
   "execution_count": 124,
   "metadata": {},
   "outputs": [],
   "source": [
    "dfTCD = dfPivot.groupby('Movement_Date',as_index=False)[['Stock']].sum()\n",
    "dfTCD = dfTCD[dfTCD['Movement_Date'] >= '2020-09-22']\n",
    "dfTCD['Total_Coverage'] = dfTCD['Stock'].div(seven_days_moving_average).map('{:.1f}'.format)\n",
    "dfTCD.sort_values(by=['Movement_Date'],ascending=False,inplace=False)\n",
    "dfTCD.sort_index(ascending=False,inplace=True)"
   ]
  },
  {
   "cell_type": "markdown",
   "metadata": {},
   "source": [
    "Table for healthy stock coverage monitoring. It had been useful before retailer started creating new push orders for already overstocked products."
   ]
  },
  {
   "cell_type": "code",
   "execution_count": 125,
   "metadata": {},
   "outputs": [],
   "source": [
    "# dfPivotMask = dfPivot[~dfPivot['EAN_Code'].isin(dfNoTransit_list)]\n",
    "\n",
    "# dfHCD = dfPivotMask.groupby('Movement_Date',as_index=False)[['Stock']].sum()\n",
    "# dfHCD = dfHCD[dfHCD['Movement_Date'] >= '2020-09-22']\n",
    "# dfHCD['Healthy_Coverage'] = dfHCD['Stock'].div(one_week_moving_average).map('{:.1f}'.format)\n",
    "# dfHCD.sort_values(by=['Movement_Date'],ascending=False,inplace=True)\n",
    "# dfHCD.sort_index(ascending=True,inplace=False)\n",
    "# print(dfHCD.head(7))"
   ]
  },
  {
   "cell_type": "markdown",
   "metadata": {},
   "source": [
    "Table for both total and healthy stock coverage monitoring. When dfHCD isn't used, dataframe with Coverage Daily becomes a copy of dataframe with Total Coverage Daily."
   ]
  },
  {
   "cell_type": "code",
   "execution_count": 126,
   "metadata": {
    "scrolled": false
   },
   "outputs": [],
   "source": [
    "# dfCD = pd.merge(dfTCD,dfHCD[['Movement_Date','Healthy_Coverage']],on='Movement_Date', how='left')\n",
    "dfCD = dfTCD\n",
    "dfCD = dfCD.drop('Stock',axis=1)\n",
    "dfCD.sort_values(by=['Movement_Date'],ascending=False,inplace=False)\n",
    "dfCD.sort_index(ascending=False,inplace=False)\n",
    "# dfCD[['Total_Coverage','Healthy_Coverage']] = dfCD[['Total_Coverage','Healthy_Coverage']].astype(float)\n",
    "dfCD['Total_Coverage'] = dfCD['Total_Coverage'].astype(float)"
   ]
  },
  {
   "cell_type": "markdown",
   "metadata": {},
   "source": [
    "Table for stock coverage and service level monitoring."
   ]
  },
  {
   "cell_type": "code",
   "execution_count": 127,
   "metadata": {
    "scrolled": true
   },
   "outputs": [
    {
     "name": "stdout",
     "output_type": "stream",
     "text": [
      "Line_ID Movement_Date  Total_Coverage Service_Level\n",
      "0          2020-11-30             8.1        99.26%\n",
      "1          2020-11-29             8.0       100.00%\n",
      "2          2020-11-28             7.6       100.00%\n",
      "3          2020-11-27             8.5        95.49%\n",
      "4          2020-11-26             8.3       100.00%\n",
      "5          2020-11-25             8.9       100.00%\n",
      "6          2020-11-24             7.9        98.95%\n"
     ]
    }
   ],
   "source": [
    "dfKPI = pd.merge(dfCD,dfSLD[['Movement_Date','Service_Level']],on='Movement_Date', how='left')\n",
    "dfKPI.sort_values(by=['Movement_Date'],ascending=False,inplace=True)\n",
    "dfKPI.sort_index(ascending=True,inplace=False)\n",
    "print(dfKPI.head(7))"
   ]
  },
  {
   "cell_type": "markdown",
   "metadata": {},
   "source": [
    "Line graph for Weekly Service Level. It has a data label for the latest week only."
   ]
  },
  {
   "cell_type": "code",
   "execution_count": 128,
   "metadata": {},
   "outputs": [
    {
     "name": "stdout",
     "output_type": "stream",
     "text": [
      "99.54\n"
     ]
    },
    {
     "data": {
      "image/png": "[encoded data removed]",
      "text/plain": [
       "<Figure size 864x360 with 1 Axes>"
      ]
     },
     "metadata": {},
     "output_type": "display_data"
    }
   ],
   "source": [
    "x='Movement_Week'\n",
    "y='Service_Level_%'\n",
    "\n",
    "\n",
    "style.use('fivethirtyeight') # Style by FiveThirtyEight\n",
    "dfSLW.plot(x,y,\n",
    "           kind='line',\n",
    "           figsize=(12,5),\n",
    "           color='b',\n",
    "           legend=None)\n",
    "#plt.legend(loc='lower left',fontsize=12)\n",
    "plt.title('Weekly Service Level',fontsize=14,color='b')\n",
    "plt.xlabel('Calendar Week',fontsize=12,labelpad=10)\n",
    "plt.ylabel('Service Level %',fontsize=12,labelpad=10)\n",
    "#plt.xticks(dfSLW.index,dfSLW['Movement_Week'])              # Adds lines and labels for each week.\n",
    "plt.tick_params(axis='both', which='major', labelsize=12)   # Manages the size of tick labels.\n",
    "\n",
    "service_level_x_limits = plt.xlim()\n",
    "service_level_x_datalabel = service_level_x_limits[1]-0.35\n",
    "print(dfSLW['Service_Level_%'].iloc[7])\n",
    "\n",
    "plt.annotate(dfSLW['Service_Level_%'].iloc[-1],\n",
    "             xy=(service_level_x_datalabel,dfSLW['Service_Level_%'].iloc[-1]),\n",
    "             xytext=(service_level_x_datalabel,(dfSLW['Service_Level_%'].iloc[-1]-0.5)))\n",
    "\n",
    "plt.show()"
   ]
  },
  {
   "cell_type": "markdown",
   "metadata": {},
   "source": [
    "Line graph for Daily Coverage. It has a data label for the latest day only. Graph shows the most accurate value on Mondays, because on these day we have data for the full previous week."
   ]
  },
  {
   "cell_type": "code",
   "execution_count": 129,
   "metadata": {},
   "outputs": [
    {
     "data": {
      "image/png": "[encoded data removed]",
      "text/plain": [
       "<Figure size 864x360 with 1 Axes>"
      ]
     },
     "metadata": {},
     "output_type": "display_data"
    }
   ],
   "source": [
    "x='Movement_Week'\n",
    "y='Total_Coverage'\n",
    "# y2='Healthy_Coverage'\n",
    "\n",
    "\n",
    "y_ticks = [3, 5, 7, 9, 11, 13, 15, 17, 19]\n",
    "\n",
    "\n",
    "style.use('fivethirtyeight') # Style by Seaborn\n",
    "dfTCW.plot(x,y,\n",
    "            kind='line',\n",
    "            figsize=(12,5),\n",
    "            color=('b'),\n",
    "            legend=None)\n",
    "           \n",
    "# label='Total Coverage')\n",
    "plt.title('Weekly Stock Coverage',fontsize=14,color='b')\n",
    "plt.xlabel('Calendar Week',fontsize=12,labelpad=10)\n",
    "plt.ylabel('Coverage in Days',fontsize=12,labelpad=10)\n",
    "plt.tick_params(axis='both', which='major', labelsize=12)\n",
    "#plt.xticks(x_ticks)\n",
    "plt.yticks(y_ticks)\n",
    "# plt.legend(title=None,frameon=False)\n",
    "\n",
    "coverage_x_limits = plt.xlim()\n",
    "coverage_x_datalabel = coverage_x_limits[1]-0.35\n",
    "\n",
    "\n",
    "plt.annotate(dfTCW['Total_Coverage'].iloc[-1],\n",
    "             xy=(coverage_x_datalabel,dfTCW['Total_Coverage'].iloc[-1]),\n",
    "             xytext=(coverage_x_datalabel,(dfTCW['Total_Coverage'].iloc[-1]+0.5)))\n",
    "\n",
    "\n",
    "plt.show()"
   ]
  },
  {
   "cell_type": "markdown",
   "metadata": {},
   "source": [
    "We prepare the dataframe with KPI overview for the last 7 days. Later it will be edited and sent via e-mail."
   ]
  },
  {
   "cell_type": "code",
   "execution_count": 130,
   "metadata": {},
   "outputs": [],
   "source": [
    "dfKPI_email = dfKPI.head(7)\n",
    "dfKPI_email = dfKPI_email.rename(columns={'Movement_Date':'Movement Date','Total_Coverage':'Stock Coverage (days)', \\\n",
    "                                          'Service_Level':'Service Level'})\n",
    "dfKPI_email['Movement Date'] = dfKPI_email['Movement Date'].dt.strftime('%d.%m.%Y')\n",
    "\n",
    "dfKPI_email = dfKPI_email.rename_axis(None,axis=1)"
   ]
  },
  {
   "cell_type": "markdown",
   "metadata": {},
   "source": [
    "HTML-table is prepared and sent via e-mail."
   ]
  },
  {
   "cell_type": "code",
   "execution_count": 131,
   "metadata": {},
   "outputs": [],
   "source": [
    "outlook = win32.Dispatch('outlook.application')\n",
    "mail = outlook.CreateItem(0)\n",
    "mail.To = 'user@domain.com'\n",
    "mail.Subject = 'KPI Daily'\n",
    "\n",
    "html2 = (\n",
    "    dfKPI_email.style\n",
    "    .format({'Stock Coverage (days)': \"{:,.1f}\"})\n",
    "    .set_properties(subset=['Stock Coverage (days)'], **{'width': '170px'})\n",
    "    .set_table_styles([{'selector' : '','props' : [('border', '1px solid blue'),('font-size', '13pt')]}])\n",
    "    .set_properties(**{'font-size': '12pt', 'font-family': 'Arial','text-align': 'center'})\n",
    "    .set_caption('Overview of DC performance for '+(datetime.now()-timedelta(days=1)).strftime(\"%B %d, %Y\"))\n",
    "    .hide_index()\n",
    "    .render()\n",
    ")\n",
    "\n",
    "mail.HTMLBody = html2\n",
    "mail.Send()"
   ]
  }
 ],
 "metadata": {
  "kernelspec": {
   "display_name": "Python 3",
   "language": "python",
   "name": "python3"
  },
  "language_info": {
   "codemirror_mode": {
    "name": "ipython",
    "version": 3
   },
   "file_extension": ".py",
   "mimetype": "text/x-python",
   "name": "python",
   "nbconvert_exporter": "python",
   "pygments_lexer": "ipython3",
   "version": "3.8.3"
  }
 },
 "nbformat": 4,
 "nbformat_minor": 4
}
